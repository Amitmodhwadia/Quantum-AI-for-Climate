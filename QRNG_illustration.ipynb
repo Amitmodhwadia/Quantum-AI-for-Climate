{
 "cells": [
  {
   "cell_type": "code",
   "execution_count": 15,
   "id": "5efb90b1-7b66-4f40-b64f-df2132d0c5e3",
   "metadata": {},
   "outputs": [
    {
     "name": "stdout",
     "output_type": "stream",
     "text": [
      "Binary Result: 1\n",
      "Decimal Result: 1\n"
     ]
    }
   ],
   "source": [
    "import numpy as np\n",
    "from qiskit import QuantumRegister, ClassicalRegister, QuantumCircuit\n",
    "from qiskit_aer import AerSimulator\n",
    "from qiskit import transpile\n",
    "\n",
    "num_of_bits = 64\n",
    "\n",
    "# Initialize quantum and classical registers for a single qubit\n",
    "q = QuantumRegister(1)\n",
    "c = ClassicalRegister(1)\n",
    "qc = QuantumCircuit(q, c)\n",
    "\n",
    "qc.h(q[0])\n",
    "qc.measure(q, c)\n",
    "\n",
    "backend = AerSimulator()\n",
    "qc_compiled = transpile(qc, backend)\n",
    "job_sim = backend.run(qc_compiled, shots=num_of_bits)\n",
    "sim_result = job_sim.result()\n",
    "counts = sim_result.get_counts()\n",
    "\n",
    "recorded_response = list(counts.keys())[0]\n",
    "\n",
    "result = int(recorded_response, 2)\n",
    "\n",
    "print(f\"Binary Result: {recorded_response}\")\n",
    "print(f\"Decimal Result: {result}\")\n"
   ]
  },
  {
   "cell_type": "code",
   "execution_count": null,
   "id": "4e31da5a-5e4f-4996-9862-a52c33db9fda",
   "metadata": {},
   "outputs": [],
   "source": []
  },
  {
   "cell_type": "code",
   "execution_count": null,
   "id": "b2246783-8fcb-44da-9c67-c0b62c2c8869",
   "metadata": {},
   "outputs": [],
   "source": []
  }
 ],
 "metadata": {
  "kernelspec": {
   "display_name": "Qiskit",
   "language": "python",
   "name": "qiskit"
  },
  "language_info": {
   "codemirror_mode": {
    "name": "ipython",
    "version": 3
   },
   "file_extension": ".py",
   "mimetype": "text/x-python",
   "name": "python",
   "nbconvert_exporter": "python",
   "pygments_lexer": "ipython3",
   "version": "3.12.4"
  }
 },
 "nbformat": 4,
 "nbformat_minor": 5
}
